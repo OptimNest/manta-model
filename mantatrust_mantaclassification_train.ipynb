{
  "nbformat": 4,
  "nbformat_minor": 0,
  "metadata": {
    "colab": {
      "provenance": []
    },
    "kernelspec": {
      "name": "python3",
      "display_name": "Python 3"
    },
    "language_info": {
      "name": "python"
    }
  },
  "cells": [
    {
      "cell_type": "code",
      "execution_count": null,
      "metadata": {
        "id": "ZdoH3flW6Gu0"
      },
      "outputs": [],
      "source": [
        "!pip install -q ultralytics"
      ]
    },
    {
      "cell_type": "code",
      "source": [
        "#@title download train dataset\n",
        "!gdown 1n431PCOY8RXZebY-cSnNycvAvCC4DfWK\n",
        "!unzip dataset_manta_cls3.zip"
      ],
      "metadata": {
        "id": "nTHYgk5OCKzq"
      },
      "execution_count": null,
      "outputs": []
    },
    {
      "cell_type": "code",
      "source": [
        "from ultralytics import YOLO\n",
        "model = YOLO(\"yolo11n-cls.pt\")\n"
      ],
      "metadata": {
        "id": "gngb9mEtCTBv"
      },
      "execution_count": null,
      "outputs": []
    },
    {
      "cell_type": "code",
      "source": [
        "results = model.train(data=\"/content/dataset_manta_cls3\", epochs=100, imgsz=640,multi_scale=True,patience=10,degrees=0.5,flipud=0.5)"
      ],
      "metadata": {
        "id": "BtSC7ZGcCbrh"
      },
      "execution_count": null,
      "outputs": []
    }
  ]
}